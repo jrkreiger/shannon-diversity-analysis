{
 "cells": [
  {
   "cell_type": "markdown",
   "metadata": {
    "toc": true
   },
   "source": [
    "<h1>Table of Contents<span class=\"tocSkip\"></span></h1>\n",
    "<div class=\"toc\"><ul class=\"toc-item\"></ul></div>"
   ]
  },
  {
   "cell_type": "code",
   "execution_count": 29,
   "metadata": {
    "ExecuteTime": {
     "end_time": "2020-02-01T23:39:56.483431Z",
     "start_time": "2020-02-01T23:39:56.467744Z"
    }
   },
   "outputs": [],
   "source": [
    "# Import basic packages\n",
    "import pandas as pd\n",
    "import numpy as np\n",
    "import matplotlib.pyplot as plt\n",
    "%matplotlib inline\n",
    "\n",
    "# Import statsmodels\n",
    "import statsmodels.api as sm\n",
    "from statsmodels.formula.api import ols\n",
    "\n",
    "# Define a function to run OLS and return model summary\n",
    "def model_it(data, features):\n",
    "    \n",
    "    \"\"\"Fit an OLS model and return model summary\n",
    "    data: a DataFrame containing both features and target\n",
    "    features: identical to 'data', but with the target dropped\"\"\"\n",
    "    \n",
    "    features_sum = '+'.join(features.columns)\n",
    "    formula = 'Richness' + '~' + features_sum\n",
    "\n",
    "    model = ols(formula=formula, data=data).fit()\n",
    "    return model.summary()"
   ]
  },
  {
   "cell_type": "code",
   "execution_count": 27,
   "metadata": {
    "ExecuteTime": {
     "end_time": "2020-02-01T23:39:05.118744Z",
     "start_time": "2020-02-01T23:39:05.082719Z"
    }
   },
   "outputs": [
    {
     "data": {
      "text/html": [
       "<div>\n",
       "<style scoped>\n",
       "    .dataframe tbody tr th:only-of-type {\n",
       "        vertical-align: middle;\n",
       "    }\n",
       "\n",
       "    .dataframe tbody tr th {\n",
       "        vertical-align: top;\n",
       "    }\n",
       "\n",
       "    .dataframe thead th {\n",
       "        text-align: right;\n",
       "    }\n",
       "</style>\n",
       "<table border=\"1\" class=\"dataframe\">\n",
       "  <thead>\n",
       "    <tr style=\"text-align: right;\">\n",
       "      <th></th>\n",
       "      <th>SU</th>\n",
       "      <th>Brick</th>\n",
       "      <th>Wkd_Stone</th>\n",
       "      <th>Marble</th>\n",
       "      <th>Mortar</th>\n",
       "      <th>Plaster_Ptd</th>\n",
       "      <th>Plaster_White</th>\n",
       "      <th>Terracotta</th>\n",
       "      <th>Tesserae</th>\n",
       "      <th>Bone_Animal</th>\n",
       "      <th>...</th>\n",
       "      <th>Iron</th>\n",
       "      <th>Iron_Slag</th>\n",
       "      <th>Lead</th>\n",
       "      <th>Shell_Land</th>\n",
       "      <th>Shell_Sea</th>\n",
       "      <th>Terracotta_Fig</th>\n",
       "      <th>Votive_Bowl</th>\n",
       "      <th>Wood_Charcoal</th>\n",
       "      <th>SUM</th>\n",
       "      <th>Richness</th>\n",
       "    </tr>\n",
       "  </thead>\n",
       "  <tbody>\n",
       "    <tr>\n",
       "      <th>0</th>\n",
       "      <td>su7001</td>\n",
       "      <td>0</td>\n",
       "      <td>0</td>\n",
       "      <td>0</td>\n",
       "      <td>0</td>\n",
       "      <td>7</td>\n",
       "      <td>0</td>\n",
       "      <td>0</td>\n",
       "      <td>0</td>\n",
       "      <td>0</td>\n",
       "      <td>...</td>\n",
       "      <td>0</td>\n",
       "      <td>1</td>\n",
       "      <td>1</td>\n",
       "      <td>0</td>\n",
       "      <td>0</td>\n",
       "      <td>0</td>\n",
       "      <td>0</td>\n",
       "      <td>0</td>\n",
       "      <td>102</td>\n",
       "      <td>1.78</td>\n",
       "    </tr>\n",
       "    <tr>\n",
       "      <th>1</th>\n",
       "      <td>su7002</td>\n",
       "      <td>0</td>\n",
       "      <td>1</td>\n",
       "      <td>0</td>\n",
       "      <td>0</td>\n",
       "      <td>0</td>\n",
       "      <td>0</td>\n",
       "      <td>0</td>\n",
       "      <td>0</td>\n",
       "      <td>0</td>\n",
       "      <td>...</td>\n",
       "      <td>3</td>\n",
       "      <td>6</td>\n",
       "      <td>0</td>\n",
       "      <td>0</td>\n",
       "      <td>0</td>\n",
       "      <td>0</td>\n",
       "      <td>0</td>\n",
       "      <td>0</td>\n",
       "      <td>83</td>\n",
       "      <td>2.16</td>\n",
       "    </tr>\n",
       "    <tr>\n",
       "      <th>2</th>\n",
       "      <td>su7005</td>\n",
       "      <td>2</td>\n",
       "      <td>0</td>\n",
       "      <td>0</td>\n",
       "      <td>0</td>\n",
       "      <td>12</td>\n",
       "      <td>7</td>\n",
       "      <td>0</td>\n",
       "      <td>11</td>\n",
       "      <td>56</td>\n",
       "      <td>...</td>\n",
       "      <td>19</td>\n",
       "      <td>0</td>\n",
       "      <td>0</td>\n",
       "      <td>2</td>\n",
       "      <td>0</td>\n",
       "      <td>0</td>\n",
       "      <td>0</td>\n",
       "      <td>1</td>\n",
       "      <td>359</td>\n",
       "      <td>2.18</td>\n",
       "    </tr>\n",
       "    <tr>\n",
       "      <th>3</th>\n",
       "      <td>su7018</td>\n",
       "      <td>0</td>\n",
       "      <td>0</td>\n",
       "      <td>0</td>\n",
       "      <td>0</td>\n",
       "      <td>0</td>\n",
       "      <td>0</td>\n",
       "      <td>0</td>\n",
       "      <td>0</td>\n",
       "      <td>0</td>\n",
       "      <td>...</td>\n",
       "      <td>0</td>\n",
       "      <td>0</td>\n",
       "      <td>0</td>\n",
       "      <td>0</td>\n",
       "      <td>1</td>\n",
       "      <td>0</td>\n",
       "      <td>0</td>\n",
       "      <td>0</td>\n",
       "      <td>116</td>\n",
       "      <td>1.78</td>\n",
       "    </tr>\n",
       "    <tr>\n",
       "      <th>4</th>\n",
       "      <td>su7019</td>\n",
       "      <td>0</td>\n",
       "      <td>0</td>\n",
       "      <td>0</td>\n",
       "      <td>0</td>\n",
       "      <td>0</td>\n",
       "      <td>0</td>\n",
       "      <td>0</td>\n",
       "      <td>0</td>\n",
       "      <td>0</td>\n",
       "      <td>...</td>\n",
       "      <td>0</td>\n",
       "      <td>0</td>\n",
       "      <td>0</td>\n",
       "      <td>0</td>\n",
       "      <td>0</td>\n",
       "      <td>0</td>\n",
       "      <td>0</td>\n",
       "      <td>0</td>\n",
       "      <td>46</td>\n",
       "      <td>1.45</td>\n",
       "    </tr>\n",
       "  </tbody>\n",
       "</table>\n",
       "<p>5 rows × 42 columns</p>\n",
       "</div>"
      ],
      "text/plain": [
       "       SU  Brick  Wkd_Stone  Marble  Mortar  Plaster_Ptd  Plaster_White  \\\n",
       "0  su7001      0          0       0       0            7              0   \n",
       "1  su7002      0          1       0       0            0              0   \n",
       "2  su7005      2          0       0       0           12              7   \n",
       "3  su7018      0          0       0       0            0              0   \n",
       "4  su7019      0          0       0       0            0              0   \n",
       "\n",
       "   Terracotta  Tesserae  Bone_Animal  ...  Iron  Iron_Slag  Lead  Shell_Land  \\\n",
       "0           0         0            0  ...     0          1     1           0   \n",
       "1           0         0            0  ...     3          6     0           0   \n",
       "2           0        11           56  ...    19          0     0           2   \n",
       "3           0         0            0  ...     0          0     0           0   \n",
       "4           0         0            0  ...     0          0     0           0   \n",
       "\n",
       "   Shell_Sea  Terracotta_Fig  Votive_Bowl  Wood_Charcoal  SUM  Richness  \n",
       "0          0               0            0              0  102      1.78  \n",
       "1          0               0            0              0   83      2.16  \n",
       "2          0               0            0              1  359      2.18  \n",
       "3          1               0            0              0  116      1.78  \n",
       "4          0               0            0              0   46      1.45  \n",
       "\n",
       "[5 rows x 42 columns]"
      ]
     },
     "execution_count": 27,
     "metadata": {},
     "output_type": "execute_result"
    }
   ],
   "source": [
    "# Read in data\n",
    "data = pd.read_csv('ostiasusall2.csv')\n",
    "data.head()"
   ]
  },
  {
   "cell_type": "code",
   "execution_count": 31,
   "metadata": {
    "ExecuteTime": {
     "end_time": "2020-02-01T23:40:44.898369Z",
     "start_time": "2020-02-01T23:40:44.884273Z"
    }
   },
   "outputs": [
    {
     "name": "stdout",
     "output_type": "stream",
     "text": [
      "<class 'pandas.core.frame.DataFrame'>\n",
      "RangeIndex: 32 entries, 0 to 31\n",
      "Data columns (total 42 columns):\n",
      "SU                     32 non-null object\n",
      "Brick                  32 non-null int64\n",
      "Wkd_Stone              32 non-null int64\n",
      "Marble                 32 non-null int64\n",
      "Mortar                 32 non-null int64\n",
      "Plaster_Ptd            32 non-null int64\n",
      "Plaster_White          32 non-null int64\n",
      "Terracotta             32 non-null int64\n",
      "Tesserae               32 non-null int64\n",
      "Bone_Animal            32 non-null int64\n",
      "Bone_Human             32 non-null int64\n",
      "Bone_Worked            32 non-null int64\n",
      "Amphora                32 non-null int64\n",
      "Black_Gloss            32 non-null int64\n",
      "Bucchero               32 non-null int64\n",
      "Ceramic_Storage        32 non-null int64\n",
      "Coarseware             32 non-null int64\n",
      "Cookware               32 non-null int64\n",
      "Fineware               32 non-null int64\n",
      "Internal_Red_Slip      32 non-null int64\n",
      "Lamp                   32 non-null int64\n",
      "Lead_Glaze             32 non-null int64\n",
      "Sigillata_Marmorata    32 non-null int64\n",
      "Terra_Sigillata        32 non-null int64\n",
      "Thinwall               32 non-null int64\n",
      "Unguentarium           32 non-null int64\n",
      "Coin                   32 non-null int64\n",
      "Loom_Weight            32 non-null int64\n",
      "Game_Counter_Dice      32 non-null int64\n",
      "Glass_Slag             32 non-null int64\n",
      "Glass_Vessel           32 non-null int64\n",
      "Bronze                 32 non-null int64\n",
      "Iron                   32 non-null int64\n",
      "Iron_Slag              32 non-null int64\n",
      "Lead                   32 non-null int64\n",
      "Shell_Land             32 non-null int64\n",
      "Shell_Sea              32 non-null int64\n",
      "Terracotta_Fig         32 non-null int64\n",
      "Votive_Bowl            32 non-null int64\n",
      "Wood_Charcoal          32 non-null int64\n",
      "SUM                    32 non-null int64\n",
      "Richness               32 non-null float64\n",
      "dtypes: float64(1), int64(40), object(1)\n",
      "memory usage: 10.6+ KB\n"
     ]
    }
   ],
   "source": [
    "data.info()"
   ]
  },
  {
   "cell_type": "code",
   "execution_count": 4,
   "metadata": {
    "ExecuteTime": {
     "end_time": "2020-02-01T23:28:16.854932Z",
     "start_time": "2020-02-01T23:28:16.848980Z"
    }
   },
   "outputs": [],
   "source": [
    "# Drop unwanted columns\n",
    "data2 = data.loc[:, ['SUM', 'Richness']]"
   ]
  },
  {
   "cell_type": "code",
   "execution_count": 57,
   "metadata": {
    "ExecuteTime": {
     "end_time": "2020-02-01T23:58:25.616572Z",
     "start_time": "2020-02-01T23:58:24.930594Z"
    }
   },
   "outputs": [
    {
     "data": {
      "image/png": "[encoded data removed]",
      "text/plain": [
       "<Figure size 720x576 with 1 Axes>"
      ]
     },
     "metadata": {
      "needs_background": "light"
     },
     "output_type": "display_data"
    }
   ],
   "source": [
    "# Plot artifact v. richness score\n",
    "plt.figure(figsize=(10,8))\n",
    "plt.scatter(data2.SUM, data2.Richness, s=100, color='k')\n",
    "plt.title('Artifact count v. richness score')\n",
    "plt.xlabel('Artifact count')\n",
    "plt.ylabel('Richness score')\n",
    "plt.savefig('count_v_richness.png', dpi=300, padding=0.5)\n",
    "plt.show();"
   ]
  },
  {
   "cell_type": "code",
   "execution_count": 33,
   "metadata": {
    "ExecuteTime": {
     "end_time": "2020-02-01T23:44:18.186287Z",
     "start_time": "2020-02-01T23:44:17.929408Z"
    }
   },
   "outputs": [
    {
     "data": {
      "text/plain": [
       "<matplotlib.axes._subplots.AxesSubplot at 0x1c1de54b38>"
      ]
     },
     "execution_count": 33,
     "metadata": {},
     "output_type": "execute_result"
    },
    {
     "data": {
      "image/png": "[encoded data removed]",
      "text/plain": [
       "<Figure size 432x288 with 1 Axes>"
      ]
     },
     "metadata": {
      "needs_background": "light"
     },
     "output_type": "display_data"
    }
   ],
   "source": [
    "import seaborn as sns\n",
    "\n",
    "sns.boxplot(data.SUM)"
   ]
  },
  {
   "cell_type": "code",
   "execution_count": 37,
   "metadata": {
    "ExecuteTime": {
     "end_time": "2020-02-01T23:47:04.860408Z",
     "start_time": "2020-02-01T23:47:04.575615Z"
    }
   },
   "outputs": [
    {
     "data": {
      "image/png": "[encoded data removed]",
      "text/plain": [
       "<Figure size 432x288 with 1 Axes>"
      ]
     },
     "metadata": {
      "needs_background": "light"
     },
     "output_type": "display_data"
    }
   ],
   "source": [
    "plt.hist(data.SUM, bins=30);"
   ]
  },
  {
   "cell_type": "code",
   "execution_count": 59,
   "metadata": {
    "ExecuteTime": {
     "end_time": "2020-02-01T23:58:41.781008Z",
     "start_time": "2020-02-01T23:58:40.933558Z"
    }
   },
   "outputs": [
    {
     "data": {
      "image/png": "[encoded data removed]",
      "text/plain": [
       "<Figure size 864x576 with 1 Axes>"
      ]
     },
     "metadata": {
      "needs_background": "light"
     },
     "output_type": "display_data"
    }
   ],
   "source": [
    "# Visualize artifact count per SU\n",
    "plt.figure(figsize=(12,8))\n",
    "sns.distplot(data.SUM, kde=False, bins=20, color='k')\n",
    "sns.rugplot(data.SUM, color='k')\n",
    "plt.title('Number of artifacts per SU')\n",
    "plt.xlabel('Number of artifacts')\n",
    "plt.ylabel('Number of SUs')\n",
    "plt.savefig('count_per_su.png', dpi=300, padding=0.5)\n",
    "plt.show();"
   ]
  },
  {
   "cell_type": "code",
   "execution_count": null,
   "metadata": {},
   "outputs": [],
   "source": []
  }
 ],
 "metadata": {
  "kernelspec": {
   "display_name": "Python 3",
   "language": "python",
   "name": "python3"
  },
  "language_info": {
   "codemirror_mode": {
    "name": "ipython",
    "version": 3
   },
   "file_extension": ".py",
   "mimetype": "text/x-python",
   "name": "python",
   "nbconvert_exporter": "python",
   "pygments_lexer": "ipython3",
   "version": "3.7.3"
  },
  "toc": {
   "base_numbering": 1,
   "nav_menu": {},
   "number_sections": true,
   "sideBar": true,
   "skip_h1_title": false,
   "title_cell": "Table of Contents",
   "title_sidebar": "Contents",
   "toc_cell": true,
   "toc_position": {},
   "toc_section_display": true,
   "toc_window_display": false
  }
 },
 "nbformat": 4,
 "nbformat_minor": 2
}
